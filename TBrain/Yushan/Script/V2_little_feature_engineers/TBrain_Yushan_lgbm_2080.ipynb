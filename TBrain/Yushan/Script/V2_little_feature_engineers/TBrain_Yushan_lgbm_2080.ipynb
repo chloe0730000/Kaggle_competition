{
 "cells": [
  {
   "cell_type": "markdown",
   "metadata": {},
   "source": [
    "- v1: deal with missing value\n",
    "- v2: try change the method of replace missing value\n",
    "    * village_income_median use old method"
   ]
  },
  {
   "cell_type": "markdown",
   "metadata": {},
   "source": [
    "## 玉山人工智慧公開挑戰賽2019夏季賽 - 台灣不動產AI神預測 \n",
    "\n",
    "- House price: Predict sales prices\n",
    "- 購買屬於自己的房子，是我們一生中的大事，評估房子的好壞，不僅要考慮房子的大小、屋齡，甚至連附近的生活機能和未來發展性都是一大考量因素。然而在眾多的考量中，什麼才是影響房價高低至關重要的因素呢？"
   ]
  },
  {
   "cell_type": "code",
   "execution_count": 1,
   "metadata": {},
   "outputs": [],
   "source": [
    "import numpy as np\n",
    "import pandas as pd\n",
    "import re\n",
    "from tqdm import tqdm\n",
    "\n",
    "\n",
    "from sklearn.preprocessing import StandardScaler\n",
    "from sklearn import metrics\n",
    "from sklearn.model_selection import KFold, cross_val_score\n",
    "from sklearn.metrics import r2_score\n",
    "\n",
    "\n",
    "from sklearn.manifold import TSNE\n",
    "from sklearn.cluster import KMeans\n",
    "from sklearn.decomposition import PCA\n",
    "from sklearn.linear_model import LinearRegression, Lasso\n",
    "import lightgbm as lgb\n",
    "\n",
    "import scipy.stats as stats\n",
    "import math\n",
    "import gc\n",
    "\n",
    "\n",
    "import hyperopt\n",
    "from hyperopt import hp\n",
    "from hyperopt import tpe\n",
    "from hyperopt import Trials\n",
    "from hyperopt import fmin\n",
    "import csv\n",
    "from timeit import default_timer as timer\n",
    "from hyperopt import STATUS_OK, hp, tpe, Trials, fmin\n",
    "import ast\n",
    "\n",
    "from numpy.random import RandomState\n",
    "\n",
    "\n",
    "\n",
    "import warnings\n",
    "warnings.filterwarnings(\"ignore\")\n",
    "\n",
    "import seaborn as sns\n",
    "import matplotlib.pyplot as plt\n",
    "%matplotlib inline"
   ]
  },
  {
   "cell_type": "markdown",
   "metadata": {},
   "source": [
    "### Load the data"
   ]
  },
  {
   "cell_type": "code",
   "execution_count": 2,
   "metadata": {
    "_cell_guid": "b1076dfc-b9ad-4769-8c92-a6c4dae69d19",
    "_uuid": "8f2839f25d086af736a60e9eeb907d3b93b6e0e5"
   },
   "outputs": [
    {
     "name": "stdout",
     "output_type": "stream",
     "text": [
      "Train  60000 sales, and  235 features\n",
      "Test  10000 sales, and  234 features\n"
     ]
    }
   ],
   "source": [
    "train = pd.read_csv(\"../input/house-data/train.csv\")\n",
    "test = pd.read_csv(\"../input/house-data/test.csv\")\n",
    "\n",
    "print(\"Train \", train.shape[0], \"sales, and \", train.shape[1], \"features\" )\n",
    "print(\"Test \", test.shape[0], \"sales, and \", test.shape[1], \"features\" )"
   ]
  },
  {
   "cell_type": "markdown",
   "metadata": {},
   "source": [
    "### EDA\n",
    "\n",
    "There are 60,000 instances of training data and 10000 of test data. Total number of attributes equals 235, of which 233 is quantitative, Id (qualitative) and SalePrice. -> all are quantitative except ID\n",
    "\n",
    "- **Missing Value**: 4 features have missing value in both train and test data: 'village_income_median', 'txn_floor', 'parking_price', 'parking_area'\n",
    "\n",
    "- **Normal Distributaion on total price**: total_price doesn't follow normal distribution, so before performing regression it has to be transformed -> use standardisation since log total price follow gaussian distribution\n",
    "\n",
    "- Data is non-linear"
   ]
  },
  {
   "cell_type": "code",
   "execution_count": 3,
   "metadata": {},
   "outputs": [
    {
     "name": "stdout",
     "output_type": "stream",
     "text": [
      "qualitative data: ['building_id']\n"
     ]
    }
   ],
   "source": [
    "quantitative = [f for f in train.columns if train[f].dtypes != 'object']\n",
    "#quantitative.remove('total_price')\n",
    "qualitative = [f for f in train.columns if train[f].dtypes == 'object']\n",
    "print(\"qualitative data:\", qualitative)"
   ]
  },
  {
   "cell_type": "code",
   "execution_count": 4,
   "metadata": {},
   "outputs": [
    {
     "name": "stdout",
     "output_type": "stream",
     "text": [
      "train data type:  float64     37\n",
      "int64      197\n",
      "object       1\n",
      "dtype: int64\n",
      "test data type:  float64     36\n",
      "int64      197\n",
      "object       1\n",
      "dtype: int64\n"
     ]
    }
   ],
   "source": [
    "print(\"train data type: \", train.get_dtype_counts())\n",
    "print(\"test data type: \", test.get_dtype_counts())"
   ]
  },
  {
   "cell_type": "code",
   "execution_count": 5,
   "metadata": {},
   "outputs": [
    {
     "data": {
      "image/png": "[encoded data removed]",
      "text/plain": [
       "<Figure size 1080x360 with 2 Axes>"
      ]
     },
     "metadata": {},
     "output_type": "display_data"
    }
   ],
   "source": [
    "tr_missing = train.isnull().sum()\n",
    "tr_missing = tr_missing[tr_missing > 0]\n",
    "tr_missing.sort_values(inplace=True)\n",
    "tr_missing = pd.DataFrame(tr_missing).reset_index()\n",
    "tr_missing = tr_missing.rename(columns = {\"index\": \"features\", 0:\"count\"})\n",
    "\n",
    "te_missing = test.isnull().sum()\n",
    "te_missing = te_missing[te_missing > 0]\n",
    "te_missing.sort_values(inplace=True)\n",
    "te_missing = pd.DataFrame(te_missing).reset_index()\n",
    "te_missing = te_missing.rename(columns = {\"index\": \"features\", 0:\"count\"})\n",
    "\n",
    "\n",
    "def plot_missing(df_train, df_test):\n",
    "    \n",
    "    plt.figure(figsize=(15, 5)) \n",
    "    \n",
    "    plt.subplot(1,2,1)\n",
    "    plt.grid(b=None) # no grid line\n",
    "    plt.bar(df_train[\"features\"], df_train[\"count\"])\n",
    "    plt.title(\"missing value in train data\", loc='center')\n",
    "    plt.xticks(rotation=45)\n",
    "    \n",
    "    plt.subplot(1,2,2)\n",
    "    plt.grid(b=None) # no grid line\n",
    "    plt.bar(df_test[\"features\"], df_test[\"count\"], color=(0.2, 0.4, 0.6, 0.6))\n",
    "    plt.title(\"missing value in test data\", loc='center')\n",
    "    plt.xticks(rotation=45)\n",
    "    \n",
    "    plt.show()\n",
    "    \n",
    "plot_missing(tr_missing, te_missing)"
   ]
  },
  {
   "cell_type": "code",
   "execution_count": 6,
   "metadata": {},
   "outputs": [
    {
     "data": {
      "text/plain": [
       "Text(0.5, 1.0, 'Normal Distribution with log transform for total price (train)')"
      ]
     },
     "execution_count": 6,
     "metadata": {},
     "output_type": "execute_result"
    },
    {
     "data": {
      "image/png": "[encoded data removed]",
      "text/plain": [
       "<Figure size 1080x360 with 3 Axes>"
      ]
     },
     "metadata": {},
     "output_type": "display_data"
    }
   ],
   "source": [
    "y = train['total_price']\n",
    "log_price = train[\"total_price\"].apply(lambda row: math.log(row))\n",
    "\n",
    "f, axes = plt.subplots(1, 3, figsize=(15,5))\n",
    "\n",
    "sns.distplot(y, kde=False, fit=stats.johnsonsu, ax = axes[0])\n",
    "plt.title('Johnson SU')\n",
    "\n",
    "sns.distplot(y, kde=False, fit=stats.norm, ax = axes[1])\n",
    "plt.title('Normal Distribution')\n",
    "\n",
    "sns.distplot(log_price, kde=False, fit=stats.norm, ax = axes[2])\n",
    "plt.title('Normal Distribution with log transform for total price (train)')"
   ]
  },
  {
   "cell_type": "code",
   "execution_count": 7,
   "metadata": {},
   "outputs": [
    {
     "name": "stdout",
     "output_type": "stream",
     "text": [
      "features with normal distribution: \n",
      " ['I_index_5000', 'I_index_10000', 'II_index_5000', 'II_index_10000', 'III_index_5000', 'III_index_10000', 'IV_index_10000', 'V_index_5000', 'V_index_10000', 'VI_index_5000', 'VI_index_10000', 'VII_index_5000', 'VII_index_10000', 'VIII_index_5000', 'VIII_index_10000', 'IX_index_10000', 'X_index_5000', 'X_index_10000', 'XII_index_5000', 'XII_index_10000', 'XIV_index_5000', 'XIV_index_10000']\n"
     ]
    }
   ],
   "source": [
    "# The Shapiro-Wilk test evaluates a data sample and quantifies how likely it is that the data was drawn from a Gaussian distribution\n",
    "warnings.filterwarnings(\"ignore\")\n",
    "\n",
    "test_normality = lambda x: stats.shapiro(x.fillna(0))[1] < 0.01\n",
    "normal = pd.DataFrame(train[quantitative])\n",
    "normal = normal.apply(test_normality)\n",
    "\n",
    "# not reject null hypothesis -> features with normal distribution\n",
    "print(\"features with normal distribution: \\n\", list(pd.DataFrame(normal[normal==False]).reset_index()[\"index\"])) "
   ]
  },
  {
   "cell_type": "code",
   "execution_count": 8,
   "metadata": {},
   "outputs": [],
   "source": [
    "# Data is non-linear (skip first -> take too long)\n",
    "\n",
    "# features = [col for col in train.columns if col not in [\"building_id\", \"total_price\"]]\n",
    "# model = TSNE(n_components=2, random_state=0, perplexity=50)\n",
    "\n",
    "# X = train[features].fillna(0).values\n",
    "# tsne = model.fit_transform(X)\n",
    "\n",
    "# std = StandardScaler()\n",
    "# s = std.fit_transform(X)\n",
    "\n",
    "# pca = PCA(n_components=30)\n",
    "# pca.fit(s)\n",
    "# pc = pca.transform(s)\n",
    "# kmeans = KMeans(n_clusters=5)\n",
    "# kmeans.fit(pc)\n",
    "\n",
    "# fr = pd.DataFrame({'tsne1': tsne[:,0], 'tsne2': tsne[:, 1], 'cluster': kmeans.labels_})\n",
    "# sns.lmplot(data=fr, x='tsne1', y='tsne2', hue='cluster', fit_reg=False)\n",
    "# print(np.sum(pca.explained_variance_ratio_))"
   ]
  },
  {
   "cell_type": "markdown",
   "metadata": {},
   "source": [
    "### Handle Missing Value\n",
    "- village_income_median\n",
    "- txn_floor\n",
    "- parking_price\n",
    "- parking_area\n",
    "\n",
    "Note: \n",
    "1. whether should comebine train and test to replace the missing value \n",
    "2. strong assumption on if park_way==2 -> parking_area & parking_price = 0 <br/>\n",
    "    (found: parking_way==2 -> parking_price=na and parking_area=na)\n",
    "\n"
   ]
  },
  {
   "cell_type": "code",
   "execution_count": 9,
   "metadata": {},
   "outputs": [
    {
     "name": "stdout",
     "output_type": "stream",
     "text": [
      "# of missing value in village income median (all):  1326\n",
      "# of missing value in village income median (train):  1142\n",
      "# of missing value in village income median (test):  184\n"
     ]
    }
   ],
   "source": [
    "test[\"total_price\"] = -1\n",
    "all_df = pd.concat([train, test])\n",
    "\n",
    "print(\"# of missing value in village income median (all): \", all_df[\"village_income_median\"].isnull().sum())\n",
    "print(\"# of missing value in village income median (train): \", train[\"village_income_median\"].isnull().sum())\n",
    "print(\"# of missing value in village income median (test): \", test[\"village_income_median\"].isnull().sum())"
   ]
  },
  {
   "cell_type": "code",
   "execution_count": 10,
   "metadata": {},
   "outputs": [
    {
     "name": "stdout",
     "output_type": "stream",
     "text": [
      "data shape:  (70000, 235)\n",
      "data shape after removing columns with no variation:  (70000, 213)\n",
      "columns with no variation: ['VIII_index_5000', 'IV_index_10000', 'IX_index_10000', 'II_index_10000', 'XII_index_10000', 'VII_index_10000', 'V_index_10000', 'VIII_index_10000', 'VII_index_5000', 'III_index_10000', 'V_index_5000', 'XIV_index_10000', 'X_index_10000', 'II_index_5000', 'I_index_10000', 'X_index_5000', 'I_index_5000', 'VI_index_10000', 'XIV_index_5000', 'XII_index_5000', 'III_index_5000', 'VI_index_5000']\n"
     ]
    }
   ],
   "source": [
    "#----------------------------------------------\n",
    "# remove column with no variation\n",
    "#----------------------------------------------\n",
    "\n",
    "print(\"data shape: \", all_df.shape)\n",
    "original_columns = all_df.columns\n",
    "all_df = all_df.loc[:,all_df.apply(pd.Series.nunique) != 1]\n",
    "new_columns = all_df.columns\n",
    "print(\"data shape after removing columns with no variation: \", all_df.shape)\n",
    "print(\"columns with no variation:\", list(set(original_columns)-set(new_columns)))"
   ]
  },
  {
   "cell_type": "code",
   "execution_count": 11,
   "metadata": {},
   "outputs": [],
   "source": [
    "# get possiblely categorical variable (need to add txn_floor into it) [5/5]\n",
    "categorical_var=[]\n",
    "for col in all_df:\n",
    "    if len(all_df[col].unique())>1 and all_df[col].dtypes==\"int64\":\n",
    "        #print (col, \"-> unique value: \", train[col].unique())\n",
    "        categorical_var.append(col)\n",
    "\n",
    "categorical_var.append(\"txn_floor\")\n",
    "\n",
    "not_categorical_var = set(all_df.columns)-set(categorical_var) # not categorical_var"
   ]
  },
  {
   "cell_type": "code",
   "execution_count": 12,
   "metadata": {},
   "outputs": [
    {
     "name": "stdout",
     "output_type": "stream",
     "text": [
      "['VII_index_1000', 'V_index_50', 'town', 'building_material', 'I_index_1000', 'txn_dt', 'III_index_50', 'V_index_1000', 'city', 'VI_index_50', 'XIII_index_10000', 'III_index_1000', 'VIII_index_500', 'XIII_index_5000', 'XIII_index_1000', 'VII_index_500', 'XI_index_10000', 'II_index_50', 'IV_index_5000', 'III_index_500', 'XII_index_500', 'VIII_index_50', 'XIII_index_500', 'XI_index_1000', 'X_index_1000', 'XII_index_50', 'II_index_500', 'I_index_500', 'X_index_500', 'XIV_index_1000', 'parking_way', 'building_use', 'txn_floor', 'X_index_50', 'building_type', 'XI_index_5000', 'IV_index_500', 'XII_index_1000', 'village', 'XI_index_500', 'XIV_index_50', 'IX_index_5000', 'VIII_index_1000', 'XIII_index_50', 'IV_index_50', 'V_index_500', 'building_complete_dt', 'XI_index_50', 'I_index_50', 'total_floor', 'VI_index_1000', 'IX_index_1000', 'IX_index_500', 'VI_index_500', 'IX_index_50', 'VII_index_50', 'XIV_index_500', 'IV_index_1000', 'II_index_1000']\n"
     ]
    }
   ],
   "source": [
    "# should remove certain from the categorical variable list\n",
    "to_remove = [i for i in categorical_var if re.search(\"^[A-Z]{1,5}[_]\\d{1,5}$\", i, re.IGNORECASE)!=None] \n",
    "categorical_var = list(set(categorical_var)-set(to_remove))\n",
    "print(categorical_var)"
   ]
  },
  {
   "cell_type": "code",
   "execution_count": 13,
   "metadata": {},
   "outputs": [],
   "source": [
    "#----------------------------------------------\n",
    "# missing value in \"parking_area\", \"parking_price\"\n",
    "#----------------------------------------------\n",
    "\n",
    "missing_col = [\"parking_area\", \"parking_price\"]\n",
    "for col in missing_col:\n",
    "    all_df[\"has\"+col] = np.where(all_df[col]>0,1,0)"
   ]
  },
  {
   "cell_type": "code",
   "execution_count": 14,
   "metadata": {},
   "outputs": [],
   "source": [
    "#----------------------------------------------\n",
    "# group data into diff group based on some columns\n",
    "# strong assumption: those are same building but diff floor\n",
    "#----------------------------------------------\n",
    "\n",
    "train1 = all_df[:len(train)]\n",
    "test1 = all_df[len(train):]\n",
    "\n",
    "group_col = train1.columns[12:]\n",
    "group_col = [col for col in group_col if col !=\"total_price\"]\n",
    "\n",
    "t = train1.groupby(by=group_col).size().reset_index()\n",
    "t = t.rename(columns={0:\"count_in_train\"})\n",
    "t[\"group_index\"] = t.index\n",
    "\n",
    "merge_col = [col for col in t.columns if col not in [\"count_in_train\",\"group_index\"]]\n",
    "\n",
    "train1 = pd.merge(train1, t , how=\"left\", on = merge_col)\n",
    "test1 = pd.merge(test1, t , how=\"left\", on = merge_col)"
   ]
  },
  {
   "cell_type": "code",
   "execution_count": 15,
   "metadata": {},
   "outputs": [],
   "source": [
    "all_df2 = pd.concat([train1, test1])\n",
    "\n",
    "# only predict for groups with >= 5 count in train\n",
    "all_df3 = all_df2[all_df2[\"count_in_train\"]>=5]\n",
    "train2 = all_df3[all_df3[\"total_price\"]!=-1]\n",
    "test2 = all_df3[all_df3[\"total_price\"]==-1]"
   ]
  },
  {
   "cell_type": "code",
   "execution_count": 16,
   "metadata": {},
   "outputs": [],
   "source": [
    "#remaining_no_group = all_df2[pd.isnull(all_df2[\"count_in_train\"])]\n",
    "\n",
    "group_index_list = [i for i in set(all_df3[\"group_index\"]) if pd.notnull(i)]\n",
    "index_in_both_list = list(train2[train2[\"group_index\"].isin(test2[\"group_index\"])][\"group_index\"].unique())\n",
    "\n",
    "col_predict = [\"building_complete_dt\",\"parking_way\", \n",
    "               \"txn_floor\", \"building_type\",\n",
    "               \"building_use\",\"building_material\",\"city\",\"txn_dt\" ]\n",
    " \n",
    "    \n",
    "train3 = train2[train2[\"group_index\"].isin(index_in_both_list)]  \n",
    "test3 = test2[test2[\"group_index\"].isin(index_in_both_list)]   \n",
    "    \n",
    "predictions_list = []\n",
    "building_id_list = []\n",
    "\n",
    "for i in index_in_both_list:\n",
    "    tr = train3[train3[\"group_index\"]==i]\n",
    "    te = test3[test3[\"group_index\"]==i]\n",
    "    tr[\"txn_floor\"] = tr[\"txn_floor\"].fillna(4)\n",
    "    te[\"txn_floor\"] = te[\"txn_floor\"].fillna(4)\n",
    "    \n",
    "    building_id_list_c = te[\"building_id\"].values.tolist()\n",
    "    building_id_list.append(building_id_list_c)\n",
    "\n",
    "    target = tr[\"total_price\"]\n",
    "    tr = tr.drop(\"total_price\", axis=1)\n",
    "    te = te.drop(\"total_price\", axis=1)\n",
    "    lm = LinearRegression()\n",
    "    lm.fit(tr[col_predict], target)\n",
    "    predictions = lm.predict(te[col_predict])\n",
    "    predictions = predictions.tolist()\n",
    "    predictions_list.append(predictions)\n",
    "\n"
   ]
  },
  {
   "cell_type": "code",
   "execution_count": 17,
   "metadata": {},
   "outputs": [],
   "source": [
    "adjust_predictions = pd.DataFrame([j for i in predictions_list for j in i])\n",
    "adjust_building = pd.DataFrame([j for i in building_id_list for j in i])\n",
    "adjust_building_file = pd.concat([adjust_building, adjust_predictions], axis=1)"
   ]
  },
  {
   "cell_type": "code",
   "execution_count": 18,
   "metadata": {},
   "outputs": [],
   "source": [
    "adjust_building_file.columns = [\"building_id\", \"total_price_new\"]"
   ]
  },
  {
   "cell_type": "code",
   "execution_count": 19,
   "metadata": {},
   "outputs": [],
   "source": [
    "lgbm = pd.read_csv(\"../input/lgbm-1987-output/190509_lgbm_1987.csv\")"
   ]
  },
  {
   "cell_type": "code",
   "execution_count": 20,
   "metadata": {},
   "outputs": [],
   "source": [
    "final = pd.merge(lgbm, adjust_building_file, how=\"left\", on=\"building_id\")"
   ]
  },
  {
   "cell_type": "code",
   "execution_count": 21,
   "metadata": {},
   "outputs": [],
   "source": [
    "final[\"total_price_new1\"] = final.apply(lambda row: row[\"total_price_new\"] \n",
    "                                       if pd.notnull(row[\"total_price_new\"]) \n",
    "                                       else row[\"total_price\"], axis=1)"
   ]
  },
  {
   "cell_type": "code",
   "execution_count": 22,
   "metadata": {},
   "outputs": [],
   "source": [
    "final = final[[\"building_id\", \"total_price_new1\"]]\n",
    "final = final.rename(columns={\"total_price_new1\": \"total_price_new\"})"
   ]
  },
  {
   "cell_type": "code",
   "execution_count": 23,
   "metadata": {},
   "outputs": [],
   "source": [
    "final.to_csv(\"new_lgbm_file.csv\", index=False)"
   ]
  },
  {
   "cell_type": "code",
   "execution_count": 24,
   "metadata": {},
   "outputs": [],
   "source": [
    "    #building_id_df.append(te)\n",
    "    \n",
    "#     if te.shape[0]>0:\n",
    "#         target = tr[\"total_price\"]\n",
    "#         tr = tr.drop(\"total_price\", axis=1)\n",
    "#         te = te.drop(\"total_price\", axis=1)\n",
    "#         lm = LinearRegression()\n",
    "#         lm.fit(tr[col_predict], target)\n",
    "#         predictions = lm.predict(te[col_predict])\n"
   ]
  }
 ],
 "metadata": {
  "kernelspec": {
   "display_name": "Python 3",
   "language": "python",
   "name": "python3"
  },
  "language_info": {
   "codemirror_mode": {
    "name": "ipython",
    "version": 3
   },
   "file_extension": ".py",
   "mimetype": "text/x-python",
   "name": "python",
   "nbconvert_exporter": "python",
   "pygments_lexer": "ipython3",
   "version": "3.6.4"
  }
 },
 "nbformat": 4,
 "nbformat_minor": 1
}
