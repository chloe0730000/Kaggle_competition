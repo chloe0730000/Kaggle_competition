{
  "cells": [
    {
      "metadata": {
        "_uuid": "ec6308ae057d5d29025ad0eafddeb744a081bb4e"
      },
      "cell_type": "markdown",
      "source": "## Outline\n- num of features: 1200\n- using cv for logistic regression and ridge regression\n- since ridge perform better -> so output ridge regression"
    },
    {
      "metadata": {
        "_uuid": "8f2839f25d086af736a60e9eeb907d3b93b6e0e5",
        "_cell_guid": "b1076dfc-b9ad-4769-8c92-a6c4dae69d19",
        "trusted": true
      },
      "cell_type": "code",
      "source": "# import package\nimport numpy as np \nimport pandas as pd \nimport gc\nimport datetime\nimport warnings\nimport seaborn as sns\nimport math\n\nfrom sklearn.preprocessing import OneHotEncoder\nfrom scipy.stats import norm, rankdata\n\n# scaling\nfrom sklearn.preprocessing import MinMaxScaler\nfrom sklearn.preprocessing import StandardScaler\n\n# Dimension Reduction\nfrom sklearn.decomposition import PCA\nfrom sklearn.manifold import MDS\nfrom sklearn.cluster import KMeans\n\n# Visualisation\nimport matplotlib.pyplot as plt\nimport seaborn as sns\n\n# Evaluation\nfrom tqdm import tqdm_notebook\nfrom sklearn.metrics import accuracy_score, precision_score, recall_score, f1_score, roc_auc_score, roc_curve, precision_recall_curve\nfrom sklearn.model_selection import cross_val_score\nfrom sklearn.model_selection import StratifiedKFold\nfrom sklearn.metrics import mean_squared_error\nfrom sklearn.model_selection import train_test_split\n\n# Model\nfrom sklearn.model_selection import GridSearchCV\nfrom sklearn.dummy import DummyClassifier\nfrom sklearn.linear_model import LogisticRegression, Ridge\nfrom sklearn.neighbors import KNeighborsClassifier\nfrom sklearn.svm import SVC\nfrom sklearn.tree import DecisionTreeClassifier\nimport lightgbm as lgb\nfrom sklearn.ensemble import RandomForestClassifier, AdaBoostClassifier, GradientBoostingClassifier, ExtraTreesClassifier, ExtraTreesRegressor                   \nfrom sklearn.naive_bayes import GaussianNB\nfrom sklearn.naive_bayes import ComplementNB\nfrom xgboost import XGBClassifier\n#import xgboost as xgb\nfrom catboost import CatBoostRegressor, CatBoostClassifier\nfrom vecstack import stacking\n\n\nwarnings.filterwarnings('ignore')",
      "execution_count": null,
      "outputs": []
    },
    {
      "metadata": {
        "_cell_guid": "79c7e3d0-c299-4dcb-8224-4455121ee9b0",
        "_uuid": "d629ff2d2480ee46fbb7e2d37f6b5fab8052498a",
        "trusted": true
      },
      "cell_type": "code",
      "source": "# read data\ndata_train = pd.read_csv(\"../input/train.csv\", encoding = 'utf-8-sig')\ndata_test = pd.read_csv(\"../input/test.csv\", encoding = 'utf-8-sig')\ndata_sample = pd.read_csv(\"../input/sample_submission.csv\", encoding = 'utf-8-sig')",
      "execution_count": null,
      "outputs": []
    },
    {
      "metadata": {
        "trusted": true,
        "_uuid": "e85b9f8f10db2005b78131213875c57d9fbdffcb"
      },
      "cell_type": "code",
      "source": "# test set contains all columns in the data_train except target\ndata_train.columns[~data_train.columns.isin(data_test.columns)]",
      "execution_count": null,
      "outputs": []
    },
    {
      "metadata": {
        "trusted": true,
        "_uuid": "d079b0327f9e4af903b6e1d112bbcd1455840c37"
      },
      "cell_type": "code",
      "source": "# get missing value variable name\na = pd.DataFrame(data_train.isnull().any()).reset_index().rename(columns={\"index\":\"name\",0:\"have_na\"})\nprint(\"features that have na:\", a[a[\"have_na\"]==True].name)",
      "execution_count": null,
      "outputs": []
    },
    {
      "metadata": {
        "trusted": true,
        "_uuid": "21ee2d4b8d35b3debd009b6a60996a4ca926a291"
      },
      "cell_type": "code",
      "source": "# imbalance data\nprint(\"check imbalance:\", data_train.groupby(by=\"target\").size())\nsns.countplot(x=\"target\", data=data_train)",
      "execution_count": null,
      "outputs": []
    },
    {
      "metadata": {
        "trusted": true,
        "_uuid": "3d6f90793158a09bd1f5f8706905332e8cb7daa6"
      },
      "cell_type": "code",
      "source": "# check data type before scaling (since string cannot scale)\n[col for col in data_train.columns if data_train[col].dtype!=float]",
      "execution_count": null,
      "outputs": []
    },
    {
      "metadata": {
        "trusted": true,
        "_uuid": "166f77dca49b56b6b216e154ad66f030be813391"
      },
      "cell_type": "code",
      "source": "# [v5] add more features\ncol = [col for col in data_train.columns if col not in (\"ID_code\", \"target\")]\ntrain_target = data_train[\"target\"]\ndata_train = data_train[col]\nID = data_test[\"ID_code\"]\ndata_test = data_test[col]\nprint(\"# of columns originally:\", data_train.shape[1])",
      "execution_count": null,
      "outputs": []
    },
    {
      "metadata": {
        "trusted": true,
        "_uuid": "4fc316d2f06a2b9f3ed90b78694bca16ef1e1704"
      },
      "cell_type": "code",
      "source": "# top10 variables highly correlated with target\ndata_train.apply(lambda x: abs(x.corr(train_target))).sort_values(ascending = False)[:10]",
      "execution_count": null,
      "outputs": []
    },
    {
      "metadata": {
        "trusted": true,
        "_uuid": "869a07293aa0b72013b4b33bf6591232ce6c7720"
      },
      "cell_type": "code",
      "source": "data_train.std().plot('hist')\nplt.title('Distribution of stds of all columns (before scaling)')",
      "execution_count": null,
      "outputs": []
    },
    {
      "metadata": {
        "trusted": true,
        "_uuid": "a054f71a18a644226d67b91dcbfbe25c934b7cd6"
      },
      "cell_type": "code",
      "source": "data_train.mean().plot('hist')\nplt.title('Distribution of means of all columns')",
      "execution_count": null,
      "outputs": []
    },
    {
      "metadata": {
        "trusted": true,
        "_uuid": "14c993390c590ac82b42d5b8c6ad00aed83fef95"
      },
      "cell_type": "code",
      "source": "merged_df = pd.concat([data_train, data_test])",
      "execution_count": null,
      "outputs": []
    },
    {
      "metadata": {
        "trusted": true,
        "_uuid": "8c081b6bd529165446655ee4ed33ff15b8e60ece"
      },
      "cell_type": "code",
      "source": "for col in merged_df:\n    # Normalize the data, so that it can be used in norm.cdf(), as though it is a standard normal variable\n    merged_df[col] = ((merged_df[col] - merged_df[col].mean()) / merged_df[col].std()).astype('float32')\n\n    # Square\n    merged_df[col+'_s'] = merged_df[col] * merged_df[col]\n\n    # Cube\n    merged_df[col+'_c'] = merged_df[col] * merged_df[col] * merged_df[col]\n\n    # 4th power\n    merged_df[col+'_q'] = merged_df[col] * merged_df[col] * merged_df[col] * merged_df[col]\n\n    # Cumulative percentile (not normalized)\n    merged_df[col+'_r'] = rankdata(merged_df[col]).astype('float32')\n\n    # Cumulative normal percentile\n    merged_df[col+'_n'] = norm.cdf(merged_df[col]).astype('float32')",
      "execution_count": null,
      "outputs": []
    },
    {
      "metadata": {
        "trusted": true,
        "_uuid": "73b4dca18ab294bfcf98b95ca0d75c1cb3f600ec"
      },
      "cell_type": "code",
      "source": "print(\"# of features to train the model:\", merged_df.shape[1])",
      "execution_count": null,
      "outputs": []
    },
    {
      "metadata": {
        "trusted": true,
        "_uuid": "ca6e48b1354ce1b8bcd353de314bea28bd58fac3"
      },
      "cell_type": "code",
      "source": "data_train = merged_df[:len(data_train)]\ndata_test = merged_df[len(data_train):]",
      "execution_count": null,
      "outputs": []
    },
    {
      "metadata": {
        "trusted": true,
        "_uuid": "aacb08e543564f64b27f46e0f234d41ea75dfb11"
      },
      "cell_type": "code",
      "source": "scaler = MinMaxScaler(feature_range=[0, 1])\ntrain_scaled = scaler.fit_transform(data_train)\ntest_scaled = scaler.transform(data_test)\n\ntrain_scaled = pd.DataFrame(train_scaled)\ntest_scaled = pd.DataFrame(test_scaled)",
      "execution_count": null,
      "outputs": []
    },
    {
      "metadata": {
        "trusted": true,
        "_uuid": "9f6c9733c43e131a6752058bcbcc21a310891ff6"
      },
      "cell_type": "code",
      "source": "ridge = Ridge(alpha = 0.0001, normalize = True, random_state = 0)\nscore = cross_val_score(ridge, train_scaled, train_target, cv=10, scoring='roc_auc')",
      "execution_count": null,
      "outputs": []
    },
    {
      "metadata": {
        "trusted": true,
        "_uuid": "3bba9c6aeb30ed150ffc9621787d7fe0220ddabd"
      },
      "cell_type": "code",
      "source": "np.mean(score)",
      "execution_count": null,
      "outputs": []
    },
    {
      "metadata": {
        "trusted": true,
        "_uuid": "8e0b2de703ba6e52c6216032e05a7dc60ade7cd9"
      },
      "cell_type": "code",
      "source": "ridge.fit(train_scaled, train_target)\npredictions = ridge.predict(test_scaled)",
      "execution_count": null,
      "outputs": []
    },
    {
      "metadata": {
        "trusted": true,
        "_uuid": "21447e9f491fe4563bd93931ff9da4527daa478f"
      },
      "cell_type": "code",
      "source": "pd.DataFrame(pd.Series(predictions, index=ID, name = \"target\")).to_csv(\"sub_ridge_cv.csv\")",
      "execution_count": null,
      "outputs": []
    },
    {
      "metadata": {
        "trusted": true,
        "_uuid": "506ecc1eb15655c0a5f81588853c6935a6e8ed01"
      },
      "cell_type": "code",
      "source": "# %%time\n# print(\"---> Ridge Regression CV output (code seems wrong, the output only 0.49 accuracy) <---\")\n\n\n# kf = StratifiedKFold(n_splits=10,shuffle=False,random_state=0)\n# oof = np.zeros(len(train_scaled))\n# predictions = np.zeros(len(test_scaled))\n\n\n\n# i=1\n# for train_index,test_index in kf.split(train_scaled,train_target):\n#     print('{} of KFold {}'.format(i,kf.n_splits))\n    \n#     xtr,xvl = train_scaled.loc[train_index], train_scaled.loc[test_index]\n#     ytr,yvl = train_target.loc[train_index], train_target.loc[test_index]\n    \n#     #model\n#     ridge = Ridge(alpha = 0.0001, normalize = True,random_state = 0)\n                  \n#     ridge.fit(xtr,ytr)\n#     oof[test_index] = ridge.predict(xvl)\n    \n#     predictions += ridge.predict(test_scaled) / kf.n_splits\n\n#     i+=1\n    \n# print(\"CV score: {:<8.5f}\".format(roc_auc_score(target, oof)))",
      "execution_count": null,
      "outputs": []
    },
    {
      "metadata": {
        "trusted": true,
        "_uuid": "ce47e06c9b909a9bff1154fa8f7ec8335ce7e99d"
      },
      "cell_type": "code",
      "source": "# print(\"---> Logistic Regression (code seems wrong) <---\")\n# %%time\n# kf = StratifiedKFold(n_splits=10,shuffle=False,random_state=0)\n# oof = np.zeros(len(train_scaled))\n# predictions = np.zeros(len(data_test))\n# pred_test_full = 0\n# cv_score =[]\n\n\n# i=1\n# for train_index,test_index in kf.split(train_scaled,train_target):\n#     print('{} of KFold {}'.format(i,kf.n_splits))\n    \n#     xtr,xvl = train_scaled.loc[train_index], train_scaled.loc[test_index]\n#     ytr,yvl = train_target.loc[train_index], train_target.loc[test_index]\n    \n#     #model\n#     lr = LogisticRegression(class_weight = 'balanced', C = 1, solver = 'lbfgs', random_state = 0)\n#     lr.fit(xtr,ytr)\n#     oof[test_index] = lr.predict_proba(xvl)[:,1]\n    \n#     #score = roc_auc_score(yvl,lr.predict(xvl))\n#     #print('ROC AUC score:',score)\n#     #cv_score.append(score)    \n\n#     #pred_test = lr.predict_proba(x_test)[:,1]\n#     #pred_test_full +=pred_test\n#     predictions += lr.predict_proba(test_scaled)[:,1] / kf.n_splits\n\n#     i+=1\n    \n# print(\"CV score: {:<8.5f}\".format(roc_auc_score(train_target, oof)))",
      "execution_count": null,
      "outputs": []
    },
    {
      "metadata": {
        "trusted": true,
        "_uuid": "1aab4966604b21f7b8938066e194cccf07a11f93"
      },
      "cell_type": "code",
      "source": "# get output\n#pd.DataFrame(pd.Series(oof, index=ID, name = \"target\")).to_csv(\"subm_ridge_cv.csv\")",
      "execution_count": null,
      "outputs": []
    }
  ],
  "metadata": {
    "kernelspec": {
      "display_name": "Python 3",
      "language": "python",
      "name": "python3"
    },
    "language_info": {
      "name": "python",
      "version": "3.6.6",
      "mimetype": "text/x-python",
      "codemirror_mode": {
        "name": "ipython",
        "version": 3
      },
      "pygments_lexer": "ipython3",
      "nbconvert_exporter": "python",
      "file_extension": ".py"
    }
  },
  "nbformat": 4,
  "nbformat_minor": 1
}