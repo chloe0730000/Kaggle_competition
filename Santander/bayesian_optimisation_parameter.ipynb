{
  "cells": [
    {
      "metadata": {
        "_uuid": "cf79b059b37d0ba1fd7673b03191591850fd6de9"
      },
      "cell_type": "markdown",
      "source": "## Bayesian_Optimization \n- purpose: to get the tuning parameter faster than random search and grid search\n- steps:\n    1. object function\n    2. domain space\n    3. optimisation algorithms\n    4. results\n- [ref1](https://towardsdatascience.com/an-introductory-example-of-bayesian-optimization-in-python-with-hyperopt-aae40fff4ff0) , [ref2](https://medium.com/@jacky308082/自動化調整超參數方法介紹-使用python-40edb9f0b462)"
    },
    {
      "metadata": {
        "trusted": true,
        "_uuid": "cb2f610a3d75a84d3a6bbc7a60ba396a9e2233db"
      },
      "cell_type": "code",
      "source": "import pandas as pd\nimport numpy as np\nfrom hyperopt import hp\nfrom hyperopt import tpe\nfrom hyperopt import Trials\nfrom hyperopt import fmin",
      "execution_count": 4,
      "outputs": []
    },
    {
      "metadata": {
        "_cell_guid": "79c7e3d0-c299-4dcb-8224-4455121ee9b0",
        "_uuid": "d629ff2d2480ee46fbb7e2d37f6b5fab8052498a",
        "trusted": true
      },
      "cell_type": "code",
      "source": "# [step1]: object function\n\ndef objective(x):\n    \"\"\"Objective function to minimize\"\"\"\n    \n    # Create the polynomial object\n    f = np.poly1d([1, -2, -28, 28, 12, -26, 100])\n\n    # Return the value of the polynomial\n    return f(x) * 0.05\n\n\n# [step2]: domain space\nspace = hp.uniform('x', -5, 6)\n\n# [step3]: optimise algorithms\ntpe_algo = tpe.suggest\ntpe_trials = Trials() # record the results\n\n\n# [step4]: get the results\n\n# Run 2000 evals with the tpe algorithm\ntpe_best = fmin(fn=objective, space=space, \n                algo=tpe_algo, trials=tpe_trials, \n                max_evals=2000)\n\nprint(tpe_best)",
      "execution_count": 5,
      "outputs": [
        {
          "output_type": "stream",
          "text": "100%|██████████| 2000/2000 [00:14<00:00, 136.49it/s, best loss: -219.80117578459195]\n{'x': 4.878598182652521}\n",
          "name": "stdout"
        }
      ]
    },
    {
      "metadata": {
        "trusted": true,
        "_uuid": "04f63b38d592c6bddc1fe5ae5917dce7db7a5fea"
      },
      "cell_type": "code",
      "source": "# [extra]: Dataframe of results from optimization\ntpe_results = pd.DataFrame({'loss': [x['loss'] for x in tpe_trials.results], \n                            'iteration': tpe_trials.idxs_vals[0]['x'],\n                            'x': tpe_trials.idxs_vals[1]['x']})\n                            \ntpe_results.head()",
      "execution_count": 6,
      "outputs": [
        {
          "output_type": "execute_result",
          "execution_count": 6,
          "data": {
            "text/plain": "         loss  iteration         x\n0  -11.452296          0  2.173893\n1 -113.659592          1 -3.599022\n2  -78.018457          2 -3.026434\n3  -20.998798          3  2.418561\n4  -20.933535          4  2.417121",
            "text/html": "<div>\n<style scoped>\n    .dataframe tbody tr th:only-of-type {\n        vertical-align: middle;\n    }\n\n    .dataframe tbody tr th {\n        vertical-align: top;\n    }\n\n    .dataframe thead th {\n        text-align: right;\n    }\n</style>\n<table border=\"1\" class=\"dataframe\">\n  <thead>\n    <tr style=\"text-align: right;\">\n      <th></th>\n      <th>loss</th>\n      <th>iteration</th>\n      <th>x</th>\n    </tr>\n  </thead>\n  <tbody>\n    <tr>\n      <th>0</th>\n      <td>-11.452296</td>\n      <td>0</td>\n      <td>2.173893</td>\n    </tr>\n    <tr>\n      <th>1</th>\n      <td>-113.659592</td>\n      <td>1</td>\n      <td>-3.599022</td>\n    </tr>\n    <tr>\n      <th>2</th>\n      <td>-78.018457</td>\n      <td>2</td>\n      <td>-3.026434</td>\n    </tr>\n    <tr>\n      <th>3</th>\n      <td>-20.998798</td>\n      <td>3</td>\n      <td>2.418561</td>\n    </tr>\n    <tr>\n      <th>4</th>\n      <td>-20.933535</td>\n      <td>4</td>\n      <td>2.417121</td>\n    </tr>\n  </tbody>\n</table>\n</div>"
          },
          "metadata": {}
        }
      ]
    },
    {
      "metadata": {
        "trusted": true,
        "_uuid": "8048dad30da2871fd328b14a394c3b4df8cd3231"
      },
      "cell_type": "code",
      "source": "",
      "execution_count": null,
      "outputs": []
    }
  ],
  "metadata": {
    "kernelspec": {
      "display_name": "Python 3",
      "language": "python",
      "name": "python3"
    },
    "language_info": {
      "name": "python",
      "version": "3.6.6",
      "mimetype": "text/x-python",
      "codemirror_mode": {
        "name": "ipython",
        "version": 3
      },
      "pygments_lexer": "ipython3",
      "nbconvert_exporter": "python",
      "file_extension": ".py"
    }
  },
  "nbformat": 4,
  "nbformat_minor": 1
}